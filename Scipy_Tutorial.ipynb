{
 "cells": [
  {
   "cell_type": "markdown",
   "id": "1694aad8",
   "metadata": {},
   "source": [
    "# Installation \n"
   ]
  },
  {
   "cell_type": "code",
   "execution_count": null,
   "id": "f9ef30c7",
   "metadata": {},
   "outputs": [],
   "source": [
    "# Installing Scipy\n",
    "#Windows & Linux\n",
    "#using pip\n",
    "#To install, run the following command in the terminal:\n",
    "pip install scipy\n",
    "\n",
    "#using Anaconda\n",
    "#First Download anaconda navigator\n",
    "#in anaconda prompt \n",
    "conda install -c anaconda scipy\n",
    "\n",
    "#Mac\n",
    "sudo port install py35-numpy py35-scipy py35-matplotlib py35-ipython +notebook py35-pandas py35-sympy py35-nose\n",
    "\n",
    "#use Homebrew to install these packages\n",
    "brew install numpy scipy ipython jupyter"
   ]
  },
  {
   "cell_type": "markdown",
   "id": "a056344d",
   "metadata": {},
   "source": [
    "# Basic Functions"
   ]
  },
  {
   "cell_type": "markdown",
   "id": "990cbef3",
   "metadata": {},
   "source": [
    "# help() "
   ]
  },
  {
   "cell_type": "code",
   "execution_count": 40,
   "id": "f58b8a94",
   "metadata": {},
   "outputs": [
    {
     "name": "stdout",
     "output_type": "stream",
     "text": [
      "Help on package scipy.cluster in scipy:\n",
      "\n",
      "NAME\n",
      "    scipy.cluster\n",
      "\n",
      "DESCRIPTION\n",
      "    =========================================\n",
      "    Clustering package (:mod:`scipy.cluster`)\n",
      "    =========================================\n",
      "    \n",
      "    .. currentmodule:: scipy.cluster\n",
      "    \n",
      "    :mod:`scipy.cluster.vq`\n",
      "    \n",
      "    Clustering algorithms are useful in information theory, target detection,\n",
      "    communications, compression, and other areas. The `vq` module only\n",
      "    supports vector quantization and the k-means algorithms.\n",
      "    \n",
      "    :mod:`scipy.cluster.hierarchy`\n",
      "    \n",
      "    The `hierarchy` module provides functions for hierarchical and\n",
      "    agglomerative clustering.  Its features include generating hierarchical\n",
      "    clusters from distance matrices,\n",
      "    calculating statistics on clusters, cutting linkages\n",
      "    to generate flat clusters, and visualizing clusters with dendrograms.\n",
      "\n",
      "PACKAGE CONTENTS\n",
      "    _hierarchy\n",
      "    _optimal_leaf_ordering\n",
      "    _vq\n",
      "    hierarchy\n",
      "    setup\n",
      "    tests (package)\n",
      "    vq\n",
      "\n",
      "DATA\n",
      "    __all__ = ['vq', 'hierarchy']\n",
      "\n",
      "FILE\n",
      "    c:\\users\\archu\\anaconda3\\lib\\site-packages\\scipy\\cluster\\__init__.py\n",
      "\n",
      "\n"
     ]
    }
   ],
   "source": [
    "#Basic Function\n",
    "from scipy import cluster\n",
    "help(cluster)"
   ]
  },
  {
   "cell_type": "markdown",
   "id": "ea64dcfd",
   "metadata": {},
   "source": [
    "# info()"
   ]
  },
  {
   "cell_type": "code",
   "execution_count": 4,
   "id": "52ec3d23",
   "metadata": {
    "scrolled": false
   },
   "outputs": [
    {
     "name": "stdout",
     "output_type": "stream",
     "text": [
      "=========================================\n",
      "Clustering package (:mod:`scipy.cluster`)\n",
      "=========================================\n",
      "\n",
      ".. currentmodule:: scipy.cluster\n",
      "\n",
      ":mod:`scipy.cluster.vq`\n",
      "\n",
      "Clustering algorithms are useful in information theory, target detection,\n",
      "communications, compression, and other areas. The `vq` module only\n",
      "supports vector quantization and the k-means algorithms.\n",
      "\n",
      ":mod:`scipy.cluster.hierarchy`\n",
      "\n",
      "The `hierarchy` module provides functions for hierarchical and\n",
      "agglomerative clustering.  Its features include generating hierarchical\n",
      "clusters from distance matrices,\n",
      "calculating statistics on clusters, cutting linkages\n",
      "to generate flat clusters, and visualizing clusters with dendrograms.\n"
     ]
    },
    {
     "name": "stderr",
     "output_type": "stream",
     "text": [
      "C:\\Users\\Archu\\AppData\\Local\\Temp/ipykernel_6392/3704691955.py:2: DeprecationWarning: scipy.info is deprecated and will be removed in SciPy 2.0.0, use numpy.info instead\n",
      "  scipy.info(cluster)\n"
     ]
    }
   ],
   "source": [
    "import scipy \n",
    "scipy.info(cluster)"
   ]
  },
  {
   "cell_type": "markdown",
   "id": "b9e2e945",
   "metadata": {},
   "source": [
    "# source()"
   ]
  },
  {
   "cell_type": "code",
   "execution_count": 5,
   "id": "dcdb8955",
   "metadata": {
    "scrolled": true
   },
   "outputs": [
    {
     "name": "stdout",
     "output_type": "stream",
     "text": [
      "In file: C:\\Users\\Archu\\anaconda3\\lib\\site-packages\\scipy\\cluster\\__init__.py\n",
      "\n",
      "\"\"\"\n",
      "=========================================\n",
      "Clustering package (:mod:`scipy.cluster`)\n",
      "=========================================\n",
      "\n",
      ".. currentmodule:: scipy.cluster\n",
      "\n",
      ":mod:`scipy.cluster.vq`\n",
      "\n",
      "Clustering algorithms are useful in information theory, target detection,\n",
      "communications, compression, and other areas. The `vq` module only\n",
      "supports vector quantization and the k-means algorithms.\n",
      "\n",
      ":mod:`scipy.cluster.hierarchy`\n",
      "\n",
      "The `hierarchy` module provides functions for hierarchical and\n",
      "agglomerative clustering.  Its features include generating hierarchical\n",
      "clusters from distance matrices,\n",
      "calculating statistics on clusters, cutting linkages\n",
      "to generate flat clusters, and visualizing clusters with dendrograms.\n",
      "\n",
      "\"\"\"\n",
      "__all__ = ['vq', 'hierarchy']\n",
      "\n",
      "from . import vq, hierarchy\n",
      "\n",
      "from scipy._lib._testutils import PytestTester\n",
      "test = PytestTester(__name__)\n",
      "del PytestTester\n",
      "\n"
     ]
    },
    {
     "name": "stderr",
     "output_type": "stream",
     "text": [
      "C:\\Users\\Archu\\AppData\\Local\\Temp/ipykernel_6392/47707676.py:1: DeprecationWarning: scipy.source is deprecated and will be removed in SciPy 2.0.0, use numpy.source instead\n",
      "  scipy.source(cluster)\n"
     ]
    }
   ],
   "source": [
    "scipy.source(cluster)"
   ]
  },
  {
   "cell_type": "markdown",
   "id": "f8eab6fb",
   "metadata": {},
   "source": [
    "# Special Functions"
   ]
  },
  {
   "cell_type": "markdown",
   "id": "e3ce0e74",
   "metadata": {},
   "source": [
    "# Exponential and Trigonometric Functions\n"
   ]
  },
  {
   "cell_type": "code",
   "execution_count": 7,
   "id": "44d69b26",
   "metadata": {},
   "outputs": [
    {
     "name": "stdout",
     "output_type": "stream",
     "text": [
      "8.0\n",
      "10000.0\n",
      "1.0\n",
      "0.49999999999999994\n",
      "1.0\n"
     ]
    }
   ],
   "source": [
    "#Special Function\n",
    "#Exponential and Trigonometric Functions\n",
    "\n",
    "from scipy import special\n",
    "a = special.exp2(3)\n",
    "print(a)\n",
    "\n",
    "b = special.exp10(4)\n",
    "print(b)\n",
    "\n",
    "c = special.sindg(90)\n",
    "print(c)\n",
    "\n",
    "d = special.cosdg(60)\n",
    "print(d)\n",
    "\n",
    "e= special.tandg(45)\n",
    "print(e)"
   ]
  },
  {
   "cell_type": "markdown",
   "id": "4d83fff6",
   "metadata": {},
   "source": [
    "# Bessel Function "
   ]
  },
  {
   "cell_type": "code",
   "execution_count": 8,
   "id": "5e7972d0",
   "metadata": {},
   "outputs": [
    {
     "name": "stdout",
     "output_type": "stream",
     "text": [
      "0.3641281458520728\n"
     ]
    }
   ],
   "source": [
    "# Bessel Function of first kind of real order and complex arguement\n",
    "c = special.jv(2,4)\n",
    "print(c)"
   ]
  },
  {
   "cell_type": "markdown",
   "id": "da6d22e0",
   "metadata": {},
   "source": [
    "# Integrate Functions"
   ]
  },
  {
   "cell_type": "code",
   "execution_count": 11,
   "id": "f6a84b19",
   "metadata": {},
   "outputs": [
    {
     "name": "stdout",
     "output_type": "stream",
     "text": [
      "(3.9086503371292665, 4.3394735994897923e-14)\n"
     ]
    }
   ],
   "source": [
    "# Integrate Function\n",
    "from scipy import special\n",
    "from scipy import integrate\n",
    "i = integrate.quad(lambda x:special.exp10(x),0,1)\n",
    "print(i)"
   ]
  },
  {
   "cell_type": "code",
   "execution_count": 15,
   "id": "278cb914",
   "metadata": {},
   "outputs": [
    {
     "data": {
      "text/plain": [
       "(-0.0, 4.405142707569776e-14)"
      ]
     },
     "execution_count": 15,
     "metadata": {},
     "output_type": "execute_result"
    }
   ],
   "source": [
    "# Double Integrate Function\n",
    "from scipy import integrate\n",
    "e = lambda x, y: x*y**2\n",
    "f = lambda x: 1\n",
    "g = lambda x: -1\n",
    "integrate.dblquad(e,0,2,f,g)"
   ]
  },
  {
   "cell_type": "markdown",
   "id": "ff012d29",
   "metadata": {},
   "source": [
    "# Linear Algebra"
   ]
  },
  {
   "cell_type": "code",
   "execution_count": 42,
   "id": "de44b30d",
   "metadata": {},
   "outputs": [
    {
     "name": "stdout",
     "output_type": "stream",
     "text": [
      "[[-2.   1. ]\n",
      " [ 1.5 -0.5]]\n"
     ]
    }
   ],
   "source": [
    "# Linear Algebra\n",
    "import numpy as np\n",
    "from scipy import linalg\n",
    "a = np.array([[1,2],[3,4]])\n",
    "b = linalg.inv(a)\n",
    "print(b)"
   ]
  },
  {
   "cell_type": "code",
   "execution_count": 19,
   "id": "cbac4b1d",
   "metadata": {},
   "outputs": [
    {
     "name": "stdout",
     "output_type": "stream",
     "text": [
      "-2.0\n"
     ]
    }
   ],
   "source": [
    "# Linear Algebra\n",
    "import numpy as np\n",
    "from scipy import linalg\n",
    "A = np.array([[1,2],[3,4]])\n",
    "B = linalg.det(A)\n",
    "print(B)"
   ]
  },
  {
   "cell_type": "markdown",
   "id": "c489047c",
   "metadata": {},
   "source": [
    "# Fourier Transform Functions"
   ]
  },
  {
   "cell_type": "code",
   "execution_count": 43,
   "id": "c76a9abc",
   "metadata": {},
   "outputs": [
    {
     "name": "stdout",
     "output_type": "stream",
     "text": [
      "[ 6.-0.j -2.+2.j -2.-0.j -2.-2.j]\n"
     ]
    }
   ],
   "source": [
    "from scipy.fftpack import fft, ifft\n",
    "x = np.array([0,1,2,3])\n",
    "y = fft(x)\n",
    "print(y)"
   ]
  },
  {
   "cell_type": "markdown",
   "id": "ddd2a2ad",
   "metadata": {},
   "source": [
    "# Waveforms"
   ]
  },
  {
   "cell_type": "code",
   "execution_count": 45,
   "id": "f3b9a70d",
   "metadata": {},
   "outputs": [
    {
     "data": {
      "image/png": "[encoded data removed]",
      "text/plain": [
       "<Figure size 432x288 with 1 Axes>"
      ]
     },
     "metadata": {
      "needs_background": "light"
     },
     "output_type": "display_data"
    }
   ],
   "source": [
    "from scipy.signal import chirp, spectrogram\n",
    "import matplotlib.pyplot as plt\n",
    "t = np.linspace(6, 10, 500)\n",
    "w = chirp(t, f0=4, f1=2, t1=5, method='linear')\n",
    "plt.plot(t, w)\n",
    "plt.title(\"Linear Chirp\")\n",
    "plt.xlabel('time in sec)')\n",
    "plt.show()"
   ]
  },
  {
   "cell_type": "markdown",
   "id": "96bea5c3",
   "metadata": {},
   "source": [
    "# File IO"
   ]
  },
  {
   "cell_type": "code",
   "execution_count": 46,
   "id": "f8ff9496",
   "metadata": {},
   "outputs": [],
   "source": [
    "import scipy.io as sio"
   ]
  }
 ],
 "metadata": {
  "kernelspec": {
   "display_name": "Python 3 (ipykernel)",
   "language": "python",
   "name": "python3"
  },
  "language_info": {
   "codemirror_mode": {
    "name": "ipython",
    "version": 3
   },
   "file_extension": ".py",
   "mimetype": "text/x-python",
   "name": "python",
   "nbconvert_exporter": "python",
   "pygments_lexer": "ipython3",
   "version": "3.9.7"
  }
 },
 "nbformat": 4,
 "nbformat_minor": 5
}
